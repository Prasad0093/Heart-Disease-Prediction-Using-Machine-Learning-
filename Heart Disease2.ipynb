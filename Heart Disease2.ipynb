{
 "cells": [
  {
   "cell_type": "markdown",
   "id": "d7986329-eee1-4ea0-8c41-c27e08793fc3",
   "metadata": {},
   "source": [
    "# Heart Disease Prediction using Machine Lerning"
   ]
  },
  {
   "cell_type": "markdown",
   "id": "50cf1f5c-bdd9-487b-8b4e-487c7812320f",
   "metadata": {},
   "source": [
    "#  Importing the essential libraries"
   ]
  },
  {
   "cell_type": "code",
   "execution_count": 3,
   "id": "568118d6-f488-4cdc-ad50-3beb005f9889",
   "metadata": {},
   "outputs": [
    {
     "name": "stdout",
     "output_type": "stream",
     "text": [
      "['.ipynb_checkpoints', 'Heart Disease.ipynb', 'Heart Disease.pdf', 'Heart Disease2.ipynb', 'labels.csv', 'values.csv']\n"
     ]
    }
   ],
   "source": [
    "import numpy as np\n",
    "import pandas as pd\n",
    "import matplotlib.pyplot as plt\n",
    "import seaborn as sns\n",
    "from sklearn.preprocessing import LabelEncoder\n",
    "\n",
    "%matplotlib inline\n",
    "\n",
    "import os\n",
    "print(os.listdir())\n",
    "\n",
    "import warnings\n",
    "warnings.filterwarnings('ignore')"
   ]
  },
  {
   "cell_type": "markdown",
   "id": "e16f9bf9-2f68-42c6-b0e1-c51e651f0ba6",
   "metadata": {},
   "source": [
    "#  Loading datasets and merging them "
   ]
  },
  {
   "cell_type": "code",
   "execution_count": 4,
   "id": "aefe12fc-f313-4b4e-b25a-54b659b0b874",
   "metadata": {},
   "outputs": [],
   "source": [
    "df1 = pd.read_csv(\"values.csv\")\n",
    "df2 = pd.read_csv(\"labels.csv\")"
   ]
  },
  {
   "cell_type": "code",
   "execution_count": 5,
   "id": "fe3bbbb8-d63f-47cf-9395-2cb912ccb0a9",
   "metadata": {},
   "outputs": [],
   "source": [
    "df = pd.merge(df1,df2, on = 'patient_id' , how = 'inner')"
   ]
  },
  {
   "cell_type": "markdown",
   "id": "b62c9740-854d-42ed-b13d-ce3274bba877",
   "metadata": {},
   "source": [
    "# Printing out few columns"
   ]
  },
  {
   "cell_type": "code",
   "execution_count": 21,
   "id": "2d7f7b64-c229-4c20-b8c8-564622405326",
   "metadata": {},
   "outputs": [
    {
     "data": {
      "text/html": [
       "<div>\n",
       "<style scoped>\n",
       "    .dataframe tbody tr th:only-of-type {\n",
       "        vertical-align: middle;\n",
       "    }\n",
       "\n",
       "    .dataframe tbody tr th {\n",
       "        vertical-align: top;\n",
       "    }\n",
       "\n",
       "    .dataframe thead th {\n",
       "        text-align: right;\n",
       "    }\n",
       "</style>\n",
       "<table border=\"1\" class=\"dataframe\">\n",
       "  <thead>\n",
       "    <tr style=\"text-align: right;\">\n",
       "      <th></th>\n",
       "      <th>patient_id</th>\n",
       "      <th>slope_of_peak_exercise_st_segment</th>\n",
       "      <th>thal</th>\n",
       "      <th>resting_blood_pressure</th>\n",
       "      <th>chest_pain_type</th>\n",
       "      <th>num_major_vessels</th>\n",
       "      <th>fasting_blood_sugar_gt_120_mg_per_dl</th>\n",
       "      <th>resting_ekg_results</th>\n",
       "      <th>serum_cholesterol_mg_per_dl</th>\n",
       "      <th>oldpeak_eq_st_depression</th>\n",
       "      <th>sex</th>\n",
       "      <th>age</th>\n",
       "      <th>max_heart_rate_achieved</th>\n",
       "      <th>exercise_induced_angina</th>\n",
       "      <th>heart_disease_present</th>\n",
       "    </tr>\n",
       "  </thead>\n",
       "  <tbody>\n",
       "    <tr>\n",
       "      <th>0</th>\n",
       "      <td>0z64un</td>\n",
       "      <td>1</td>\n",
       "      <td>normal</td>\n",
       "      <td>128</td>\n",
       "      <td>2</td>\n",
       "      <td>0</td>\n",
       "      <td>0</td>\n",
       "      <td>2</td>\n",
       "      <td>308</td>\n",
       "      <td>0.0</td>\n",
       "      <td>1</td>\n",
       "      <td>45</td>\n",
       "      <td>170</td>\n",
       "      <td>0</td>\n",
       "      <td>0</td>\n",
       "    </tr>\n",
       "    <tr>\n",
       "      <th>1</th>\n",
       "      <td>ryoo3j</td>\n",
       "      <td>2</td>\n",
       "      <td>normal</td>\n",
       "      <td>110</td>\n",
       "      <td>3</td>\n",
       "      <td>0</td>\n",
       "      <td>0</td>\n",
       "      <td>0</td>\n",
       "      <td>214</td>\n",
       "      <td>1.6</td>\n",
       "      <td>0</td>\n",
       "      <td>54</td>\n",
       "      <td>158</td>\n",
       "      <td>0</td>\n",
       "      <td>0</td>\n",
       "    </tr>\n",
       "    <tr>\n",
       "      <th>2</th>\n",
       "      <td>yt1s1x</td>\n",
       "      <td>1</td>\n",
       "      <td>normal</td>\n",
       "      <td>125</td>\n",
       "      <td>4</td>\n",
       "      <td>3</td>\n",
       "      <td>0</td>\n",
       "      <td>2</td>\n",
       "      <td>304</td>\n",
       "      <td>0.0</td>\n",
       "      <td>1</td>\n",
       "      <td>77</td>\n",
       "      <td>162</td>\n",
       "      <td>1</td>\n",
       "      <td>1</td>\n",
       "    </tr>\n",
       "    <tr>\n",
       "      <th>3</th>\n",
       "      <td>l2xjde</td>\n",
       "      <td>1</td>\n",
       "      <td>reversible_defect</td>\n",
       "      <td>152</td>\n",
       "      <td>4</td>\n",
       "      <td>0</td>\n",
       "      <td>0</td>\n",
       "      <td>0</td>\n",
       "      <td>223</td>\n",
       "      <td>0.0</td>\n",
       "      <td>1</td>\n",
       "      <td>40</td>\n",
       "      <td>181</td>\n",
       "      <td>0</td>\n",
       "      <td>1</td>\n",
       "    </tr>\n",
       "    <tr>\n",
       "      <th>4</th>\n",
       "      <td>oyt4ek</td>\n",
       "      <td>3</td>\n",
       "      <td>reversible_defect</td>\n",
       "      <td>178</td>\n",
       "      <td>1</td>\n",
       "      <td>0</td>\n",
       "      <td>0</td>\n",
       "      <td>2</td>\n",
       "      <td>270</td>\n",
       "      <td>4.2</td>\n",
       "      <td>1</td>\n",
       "      <td>59</td>\n",
       "      <td>145</td>\n",
       "      <td>0</td>\n",
       "      <td>0</td>\n",
       "    </tr>\n",
       "  </tbody>\n",
       "</table>\n",
       "</div>"
      ],
      "text/plain": [
       "  patient_id  slope_of_peak_exercise_st_segment               thal  \\\n",
       "0     0z64un                                  1             normal   \n",
       "1     ryoo3j                                  2             normal   \n",
       "2     yt1s1x                                  1             normal   \n",
       "3     l2xjde                                  1  reversible_defect   \n",
       "4     oyt4ek                                  3  reversible_defect   \n",
       "\n",
       "   resting_blood_pressure  chest_pain_type  num_major_vessels  \\\n",
       "0                     128                2                  0   \n",
       "1                     110                3                  0   \n",
       "2                     125                4                  3   \n",
       "3                     152                4                  0   \n",
       "4                     178                1                  0   \n",
       "\n",
       "   fasting_blood_sugar_gt_120_mg_per_dl  resting_ekg_results  \\\n",
       "0                                     0                    2   \n",
       "1                                     0                    0   \n",
       "2                                     0                    2   \n",
       "3                                     0                    0   \n",
       "4                                     0                    2   \n",
       "\n",
       "   serum_cholesterol_mg_per_dl  oldpeak_eq_st_depression  sex  age  \\\n",
       "0                          308                       0.0    1   45   \n",
       "1                          214                       1.6    0   54   \n",
       "2                          304                       0.0    1   77   \n",
       "3                          223                       0.0    1   40   \n",
       "4                          270                       4.2    1   59   \n",
       "\n",
       "   max_heart_rate_achieved  exercise_induced_angina  heart_disease_present  \n",
       "0                      170                        0                      0  \n",
       "1                      158                        0                      0  \n",
       "2                      162                        1                      1  \n",
       "3                      181                        0                      1  \n",
       "4                      145                        0                      0  "
      ]
     },
     "execution_count": 21,
     "metadata": {},
     "output_type": "execute_result"
    }
   ],
   "source": [
    "df.head(5)"
   ]
  },
  {
   "cell_type": "code",
   "execution_count": 22,
   "id": "3fb8c57c-7a4e-4278-85ba-d3e8817c9a1d",
   "metadata": {},
   "outputs": [
    {
     "data": {
      "text/html": [
       "<div>\n",
       "<style scoped>\n",
       "    .dataframe tbody tr th:only-of-type {\n",
       "        vertical-align: middle;\n",
       "    }\n",
       "\n",
       "    .dataframe tbody tr th {\n",
       "        vertical-align: top;\n",
       "    }\n",
       "\n",
       "    .dataframe thead th {\n",
       "        text-align: right;\n",
       "    }\n",
       "</style>\n",
       "<table border=\"1\" class=\"dataframe\">\n",
       "  <thead>\n",
       "    <tr style=\"text-align: right;\">\n",
       "      <th></th>\n",
       "      <th>patient_id</th>\n",
       "      <th>slope_of_peak_exercise_st_segment</th>\n",
       "      <th>thal</th>\n",
       "      <th>resting_blood_pressure</th>\n",
       "      <th>chest_pain_type</th>\n",
       "      <th>num_major_vessels</th>\n",
       "      <th>fasting_blood_sugar_gt_120_mg_per_dl</th>\n",
       "      <th>resting_ekg_results</th>\n",
       "      <th>serum_cholesterol_mg_per_dl</th>\n",
       "      <th>oldpeak_eq_st_depression</th>\n",
       "      <th>sex</th>\n",
       "      <th>age</th>\n",
       "      <th>max_heart_rate_achieved</th>\n",
       "      <th>exercise_induced_angina</th>\n",
       "      <th>heart_disease_present</th>\n",
       "    </tr>\n",
       "  </thead>\n",
       "  <tbody>\n",
       "    <tr>\n",
       "      <th>99</th>\n",
       "      <td>bthqr4</td>\n",
       "      <td>1</td>\n",
       "      <td>normal</td>\n",
       "      <td>150</td>\n",
       "      <td>1</td>\n",
       "      <td>0</td>\n",
       "      <td>1</td>\n",
       "      <td>2</td>\n",
       "      <td>283</td>\n",
       "      <td>1.0</td>\n",
       "      <td>0</td>\n",
       "      <td>58</td>\n",
       "      <td>162</td>\n",
       "      <td>0</td>\n",
       "      <td>0</td>\n",
       "    </tr>\n",
       "    <tr>\n",
       "      <th>3</th>\n",
       "      <td>l2xjde</td>\n",
       "      <td>1</td>\n",
       "      <td>reversible_defect</td>\n",
       "      <td>152</td>\n",
       "      <td>4</td>\n",
       "      <td>0</td>\n",
       "      <td>0</td>\n",
       "      <td>0</td>\n",
       "      <td>223</td>\n",
       "      <td>0.0</td>\n",
       "      <td>1</td>\n",
       "      <td>40</td>\n",
       "      <td>181</td>\n",
       "      <td>0</td>\n",
       "      <td>1</td>\n",
       "    </tr>\n",
       "    <tr>\n",
       "      <th>141</th>\n",
       "      <td>471q03</td>\n",
       "      <td>2</td>\n",
       "      <td>reversible_defect</td>\n",
       "      <td>120</td>\n",
       "      <td>1</td>\n",
       "      <td>0</td>\n",
       "      <td>0</td>\n",
       "      <td>2</td>\n",
       "      <td>193</td>\n",
       "      <td>1.9</td>\n",
       "      <td>1</td>\n",
       "      <td>56</td>\n",
       "      <td>162</td>\n",
       "      <td>0</td>\n",
       "      <td>0</td>\n",
       "    </tr>\n",
       "    <tr>\n",
       "      <th>87</th>\n",
       "      <td>bvcxah</td>\n",
       "      <td>1</td>\n",
       "      <td>reversible_defect</td>\n",
       "      <td>140</td>\n",
       "      <td>4</td>\n",
       "      <td>1</td>\n",
       "      <td>0</td>\n",
       "      <td>0</td>\n",
       "      <td>177</td>\n",
       "      <td>0.0</td>\n",
       "      <td>1</td>\n",
       "      <td>59</td>\n",
       "      <td>162</td>\n",
       "      <td>1</td>\n",
       "      <td>1</td>\n",
       "    </tr>\n",
       "    <tr>\n",
       "      <th>126</th>\n",
       "      <td>0ryxtv</td>\n",
       "      <td>2</td>\n",
       "      <td>normal</td>\n",
       "      <td>102</td>\n",
       "      <td>4</td>\n",
       "      <td>0</td>\n",
       "      <td>0</td>\n",
       "      <td>2</td>\n",
       "      <td>265</td>\n",
       "      <td>0.6</td>\n",
       "      <td>0</td>\n",
       "      <td>42</td>\n",
       "      <td>122</td>\n",
       "      <td>0</td>\n",
       "      <td>0</td>\n",
       "    </tr>\n",
       "  </tbody>\n",
       "</table>\n",
       "</div>"
      ],
      "text/plain": [
       "    patient_id  slope_of_peak_exercise_st_segment               thal  \\\n",
       "99      bthqr4                                  1             normal   \n",
       "3       l2xjde                                  1  reversible_defect   \n",
       "141     471q03                                  2  reversible_defect   \n",
       "87      bvcxah                                  1  reversible_defect   \n",
       "126     0ryxtv                                  2             normal   \n",
       "\n",
       "     resting_blood_pressure  chest_pain_type  num_major_vessels  \\\n",
       "99                      150                1                  0   \n",
       "3                       152                4                  0   \n",
       "141                     120                1                  0   \n",
       "87                      140                4                  1   \n",
       "126                     102                4                  0   \n",
       "\n",
       "     fasting_blood_sugar_gt_120_mg_per_dl  resting_ekg_results  \\\n",
       "99                                      1                    2   \n",
       "3                                       0                    0   \n",
       "141                                     0                    2   \n",
       "87                                      0                    0   \n",
       "126                                     0                    2   \n",
       "\n",
       "     serum_cholesterol_mg_per_dl  oldpeak_eq_st_depression  sex  age  \\\n",
       "99                           283                       1.0    0   58   \n",
       "3                            223                       0.0    1   40   \n",
       "141                          193                       1.9    1   56   \n",
       "87                           177                       0.0    1   59   \n",
       "126                          265                       0.6    0   42   \n",
       "\n",
       "     max_heart_rate_achieved  exercise_induced_angina  heart_disease_present  \n",
       "99                       162                        0                      0  \n",
       "3                        181                        0                      1  \n",
       "141                      162                        0                      0  \n",
       "87                       162                        1                      1  \n",
       "126                      122                        0                      0  "
      ]
     },
     "execution_count": 22,
     "metadata": {},
     "output_type": "execute_result"
    }
   ],
   "source": [
    "df.sample(5)"
   ]
  },
  {
   "cell_type": "markdown",
   "id": "59dbab82-9733-4542-a84c-7afd3e310d3b",
   "metadata": {},
   "source": [
    "# Description"
   ]
  },
  {
   "cell_type": "code",
   "execution_count": 23,
   "id": "7e742582-a7b5-4aba-b522-dc6a1695bbd2",
   "metadata": {},
   "outputs": [
    {
     "data": {
      "text/html": [
       "<div>\n",
       "<style scoped>\n",
       "    .dataframe tbody tr th:only-of-type {\n",
       "        vertical-align: middle;\n",
       "    }\n",
       "\n",
       "    .dataframe tbody tr th {\n",
       "        vertical-align: top;\n",
       "    }\n",
       "\n",
       "    .dataframe thead th {\n",
       "        text-align: right;\n",
       "    }\n",
       "</style>\n",
       "<table border=\"1\" class=\"dataframe\">\n",
       "  <thead>\n",
       "    <tr style=\"text-align: right;\">\n",
       "      <th></th>\n",
       "      <th>slope_of_peak_exercise_st_segment</th>\n",
       "      <th>resting_blood_pressure</th>\n",
       "      <th>chest_pain_type</th>\n",
       "      <th>num_major_vessels</th>\n",
       "      <th>fasting_blood_sugar_gt_120_mg_per_dl</th>\n",
       "      <th>resting_ekg_results</th>\n",
       "      <th>serum_cholesterol_mg_per_dl</th>\n",
       "      <th>oldpeak_eq_st_depression</th>\n",
       "      <th>sex</th>\n",
       "      <th>age</th>\n",
       "      <th>max_heart_rate_achieved</th>\n",
       "      <th>exercise_induced_angina</th>\n",
       "      <th>heart_disease_present</th>\n",
       "    </tr>\n",
       "  </thead>\n",
       "  <tbody>\n",
       "    <tr>\n",
       "      <th>count</th>\n",
       "      <td>180.000000</td>\n",
       "      <td>180.000000</td>\n",
       "      <td>180.000000</td>\n",
       "      <td>180.000000</td>\n",
       "      <td>180.000000</td>\n",
       "      <td>180.000000</td>\n",
       "      <td>180.000000</td>\n",
       "      <td>180.000000</td>\n",
       "      <td>180.000000</td>\n",
       "      <td>180.000000</td>\n",
       "      <td>180.000000</td>\n",
       "      <td>180.000000</td>\n",
       "      <td>180.000000</td>\n",
       "    </tr>\n",
       "    <tr>\n",
       "      <th>mean</th>\n",
       "      <td>1.550000</td>\n",
       "      <td>131.311111</td>\n",
       "      <td>3.155556</td>\n",
       "      <td>0.694444</td>\n",
       "      <td>0.161111</td>\n",
       "      <td>1.050000</td>\n",
       "      <td>249.211111</td>\n",
       "      <td>1.010000</td>\n",
       "      <td>0.688889</td>\n",
       "      <td>54.811111</td>\n",
       "      <td>149.483333</td>\n",
       "      <td>0.316667</td>\n",
       "      <td>0.444444</td>\n",
       "    </tr>\n",
       "    <tr>\n",
       "      <th>std</th>\n",
       "      <td>0.618838</td>\n",
       "      <td>17.010443</td>\n",
       "      <td>0.938454</td>\n",
       "      <td>0.969347</td>\n",
       "      <td>0.368659</td>\n",
       "      <td>0.998742</td>\n",
       "      <td>52.717969</td>\n",
       "      <td>1.121357</td>\n",
       "      <td>0.464239</td>\n",
       "      <td>9.334737</td>\n",
       "      <td>22.063513</td>\n",
       "      <td>0.466474</td>\n",
       "      <td>0.498290</td>\n",
       "    </tr>\n",
       "    <tr>\n",
       "      <th>min</th>\n",
       "      <td>1.000000</td>\n",
       "      <td>94.000000</td>\n",
       "      <td>1.000000</td>\n",
       "      <td>0.000000</td>\n",
       "      <td>0.000000</td>\n",
       "      <td>0.000000</td>\n",
       "      <td>126.000000</td>\n",
       "      <td>0.000000</td>\n",
       "      <td>0.000000</td>\n",
       "      <td>29.000000</td>\n",
       "      <td>96.000000</td>\n",
       "      <td>0.000000</td>\n",
       "      <td>0.000000</td>\n",
       "    </tr>\n",
       "    <tr>\n",
       "      <th>25%</th>\n",
       "      <td>1.000000</td>\n",
       "      <td>120.000000</td>\n",
       "      <td>3.000000</td>\n",
       "      <td>0.000000</td>\n",
       "      <td>0.000000</td>\n",
       "      <td>0.000000</td>\n",
       "      <td>213.750000</td>\n",
       "      <td>0.000000</td>\n",
       "      <td>0.000000</td>\n",
       "      <td>48.000000</td>\n",
       "      <td>132.000000</td>\n",
       "      <td>0.000000</td>\n",
       "      <td>0.000000</td>\n",
       "    </tr>\n",
       "    <tr>\n",
       "      <th>50%</th>\n",
       "      <td>1.000000</td>\n",
       "      <td>130.000000</td>\n",
       "      <td>3.000000</td>\n",
       "      <td>0.000000</td>\n",
       "      <td>0.000000</td>\n",
       "      <td>2.000000</td>\n",
       "      <td>245.500000</td>\n",
       "      <td>0.800000</td>\n",
       "      <td>1.000000</td>\n",
       "      <td>55.000000</td>\n",
       "      <td>152.000000</td>\n",
       "      <td>0.000000</td>\n",
       "      <td>0.000000</td>\n",
       "    </tr>\n",
       "    <tr>\n",
       "      <th>75%</th>\n",
       "      <td>2.000000</td>\n",
       "      <td>140.000000</td>\n",
       "      <td>4.000000</td>\n",
       "      <td>1.000000</td>\n",
       "      <td>0.000000</td>\n",
       "      <td>2.000000</td>\n",
       "      <td>281.250000</td>\n",
       "      <td>1.600000</td>\n",
       "      <td>1.000000</td>\n",
       "      <td>62.000000</td>\n",
       "      <td>166.250000</td>\n",
       "      <td>1.000000</td>\n",
       "      <td>1.000000</td>\n",
       "    </tr>\n",
       "    <tr>\n",
       "      <th>max</th>\n",
       "      <td>3.000000</td>\n",
       "      <td>180.000000</td>\n",
       "      <td>4.000000</td>\n",
       "      <td>3.000000</td>\n",
       "      <td>1.000000</td>\n",
       "      <td>2.000000</td>\n",
       "      <td>564.000000</td>\n",
       "      <td>6.200000</td>\n",
       "      <td>1.000000</td>\n",
       "      <td>77.000000</td>\n",
       "      <td>202.000000</td>\n",
       "      <td>1.000000</td>\n",
       "      <td>1.000000</td>\n",
       "    </tr>\n",
       "  </tbody>\n",
       "</table>\n",
       "</div>"
      ],
      "text/plain": [
       "       slope_of_peak_exercise_st_segment  resting_blood_pressure  \\\n",
       "count                         180.000000              180.000000   \n",
       "mean                            1.550000              131.311111   \n",
       "std                             0.618838               17.010443   \n",
       "min                             1.000000               94.000000   \n",
       "25%                             1.000000              120.000000   \n",
       "50%                             1.000000              130.000000   \n",
       "75%                             2.000000              140.000000   \n",
       "max                             3.000000              180.000000   \n",
       "\n",
       "       chest_pain_type  num_major_vessels  \\\n",
       "count       180.000000         180.000000   \n",
       "mean          3.155556           0.694444   \n",
       "std           0.938454           0.969347   \n",
       "min           1.000000           0.000000   \n",
       "25%           3.000000           0.000000   \n",
       "50%           3.000000           0.000000   \n",
       "75%           4.000000           1.000000   \n",
       "max           4.000000           3.000000   \n",
       "\n",
       "       fasting_blood_sugar_gt_120_mg_per_dl  resting_ekg_results  \\\n",
       "count                            180.000000           180.000000   \n",
       "mean                               0.161111             1.050000   \n",
       "std                                0.368659             0.998742   \n",
       "min                                0.000000             0.000000   \n",
       "25%                                0.000000             0.000000   \n",
       "50%                                0.000000             2.000000   \n",
       "75%                                0.000000             2.000000   \n",
       "max                                1.000000             2.000000   \n",
       "\n",
       "       serum_cholesterol_mg_per_dl  oldpeak_eq_st_depression         sex  \\\n",
       "count                   180.000000                180.000000  180.000000   \n",
       "mean                    249.211111                  1.010000    0.688889   \n",
       "std                      52.717969                  1.121357    0.464239   \n",
       "min                     126.000000                  0.000000    0.000000   \n",
       "25%                     213.750000                  0.000000    0.000000   \n",
       "50%                     245.500000                  0.800000    1.000000   \n",
       "75%                     281.250000                  1.600000    1.000000   \n",
       "max                     564.000000                  6.200000    1.000000   \n",
       "\n",
       "              age  max_heart_rate_achieved  exercise_induced_angina  \\\n",
       "count  180.000000               180.000000               180.000000   \n",
       "mean    54.811111               149.483333                 0.316667   \n",
       "std      9.334737                22.063513                 0.466474   \n",
       "min     29.000000                96.000000                 0.000000   \n",
       "25%     48.000000               132.000000                 0.000000   \n",
       "50%     55.000000               152.000000                 0.000000   \n",
       "75%     62.000000               166.250000                 1.000000   \n",
       "max     77.000000               202.000000                 1.000000   \n",
       "\n",
       "       heart_disease_present  \n",
       "count             180.000000  \n",
       "mean                0.444444  \n",
       "std                 0.498290  \n",
       "min                 0.000000  \n",
       "25%                 0.000000  \n",
       "50%                 0.000000  \n",
       "75%                 1.000000  \n",
       "max                 1.000000  "
      ]
     },
     "execution_count": 23,
     "metadata": {},
     "output_type": "execute_result"
    }
   ],
   "source": [
    "df.describe()"
   ]
  },
  {
   "cell_type": "code",
   "execution_count": 24,
   "id": "1d4bf704-dfad-47f3-91e2-e154a282099f",
   "metadata": {},
   "outputs": [
    {
     "name": "stdout",
     "output_type": "stream",
     "text": [
      "<class 'pandas.core.frame.DataFrame'>\n",
      "RangeIndex: 180 entries, 0 to 179\n",
      "Data columns (total 15 columns):\n",
      " #   Column                                Non-Null Count  Dtype  \n",
      "---  ------                                --------------  -----  \n",
      " 0   patient_id                            180 non-null    object \n",
      " 1   slope_of_peak_exercise_st_segment     180 non-null    int64  \n",
      " 2   thal                                  180 non-null    object \n",
      " 3   resting_blood_pressure                180 non-null    int64  \n",
      " 4   chest_pain_type                       180 non-null    int64  \n",
      " 5   num_major_vessels                     180 non-null    int64  \n",
      " 6   fasting_blood_sugar_gt_120_mg_per_dl  180 non-null    int64  \n",
      " 7   resting_ekg_results                   180 non-null    int64  \n",
      " 8   serum_cholesterol_mg_per_dl           180 non-null    int64  \n",
      " 9   oldpeak_eq_st_depression              180 non-null    float64\n",
      " 10  sex                                   180 non-null    int64  \n",
      " 11  age                                   180 non-null    int64  \n",
      " 12  max_heart_rate_achieved               180 non-null    int64  \n",
      " 13  exercise_induced_angina               180 non-null    int64  \n",
      " 14  heart_disease_present                 180 non-null    int64  \n",
      "dtypes: float64(1), int64(12), object(2)\n",
      "memory usage: 21.2+ KB\n"
     ]
    }
   ],
   "source": [
    "df.info()"
   ]
  },
  {
   "cell_type": "markdown",
   "id": "10337eaf-30a2-4dae-adef-bb2c1b6402de",
   "metadata": {},
   "source": [
    "# Drop the columns"
   ]
  },
  {
   "cell_type": "code",
   "execution_count": 25,
   "id": "cc310db1-d544-439d-aeca-ca1f4ce84f38",
   "metadata": {},
   "outputs": [],
   "source": [
    "df = df.drop(columns=['patient_id'])"
   ]
  },
  {
   "cell_type": "markdown",
   "id": "b8c68d54-a014-4480-9441-0145fa88451a",
   "metadata": {},
   "source": [
    "# Encode 'thal' column"
   ]
  },
  {
   "cell_type": "code",
   "execution_count": 26,
   "id": "69af3fa5-017f-486e-820b-ee5c16b2fbf2",
   "metadata": {},
   "outputs": [],
   "source": [
    "le = LabelEncoder()\n",
    "df['thal'] = le.fit_transform(df['thal'])"
   ]
  },
  {
   "cell_type": "code",
   "execution_count": 27,
   "id": "aa332266-796f-4ffe-bc63-8ba366d01126",
   "metadata": {},
   "outputs": [
    {
     "data": {
      "text/html": [
       "<div>\n",
       "<style scoped>\n",
       "    .dataframe tbody tr th:only-of-type {\n",
       "        vertical-align: middle;\n",
       "    }\n",
       "\n",
       "    .dataframe tbody tr th {\n",
       "        vertical-align: top;\n",
       "    }\n",
       "\n",
       "    .dataframe thead th {\n",
       "        text-align: right;\n",
       "    }\n",
       "</style>\n",
       "<table border=\"1\" class=\"dataframe\">\n",
       "  <thead>\n",
       "    <tr style=\"text-align: right;\">\n",
       "      <th></th>\n",
       "      <th>slope_of_peak_exercise_st_segment</th>\n",
       "      <th>thal</th>\n",
       "      <th>resting_blood_pressure</th>\n",
       "      <th>chest_pain_type</th>\n",
       "      <th>num_major_vessels</th>\n",
       "      <th>fasting_blood_sugar_gt_120_mg_per_dl</th>\n",
       "      <th>resting_ekg_results</th>\n",
       "      <th>serum_cholesterol_mg_per_dl</th>\n",
       "      <th>oldpeak_eq_st_depression</th>\n",
       "      <th>sex</th>\n",
       "      <th>age</th>\n",
       "      <th>max_heart_rate_achieved</th>\n",
       "      <th>exercise_induced_angina</th>\n",
       "      <th>heart_disease_present</th>\n",
       "    </tr>\n",
       "  </thead>\n",
       "  <tbody>\n",
       "    <tr>\n",
       "      <th>count</th>\n",
       "      <td>180.000000</td>\n",
       "      <td>180.000000</td>\n",
       "      <td>180.000000</td>\n",
       "      <td>180.000000</td>\n",
       "      <td>180.000000</td>\n",
       "      <td>180.000000</td>\n",
       "      <td>180.000000</td>\n",
       "      <td>180.000000</td>\n",
       "      <td>180.000000</td>\n",
       "      <td>180.000000</td>\n",
       "      <td>180.000000</td>\n",
       "      <td>180.000000</td>\n",
       "      <td>180.000000</td>\n",
       "      <td>180.000000</td>\n",
       "    </tr>\n",
       "    <tr>\n",
       "      <th>mean</th>\n",
       "      <td>1.550000</td>\n",
       "      <td>1.366667</td>\n",
       "      <td>131.311111</td>\n",
       "      <td>3.155556</td>\n",
       "      <td>0.694444</td>\n",
       "      <td>0.161111</td>\n",
       "      <td>1.050000</td>\n",
       "      <td>249.211111</td>\n",
       "      <td>1.010000</td>\n",
       "      <td>0.688889</td>\n",
       "      <td>54.811111</td>\n",
       "      <td>149.483333</td>\n",
       "      <td>0.316667</td>\n",
       "      <td>0.444444</td>\n",
       "    </tr>\n",
       "    <tr>\n",
       "      <th>std</th>\n",
       "      <td>0.618838</td>\n",
       "      <td>0.568247</td>\n",
       "      <td>17.010443</td>\n",
       "      <td>0.938454</td>\n",
       "      <td>0.969347</td>\n",
       "      <td>0.368659</td>\n",
       "      <td>0.998742</td>\n",
       "      <td>52.717969</td>\n",
       "      <td>1.121357</td>\n",
       "      <td>0.464239</td>\n",
       "      <td>9.334737</td>\n",
       "      <td>22.063513</td>\n",
       "      <td>0.466474</td>\n",
       "      <td>0.498290</td>\n",
       "    </tr>\n",
       "    <tr>\n",
       "      <th>min</th>\n",
       "      <td>1.000000</td>\n",
       "      <td>0.000000</td>\n",
       "      <td>94.000000</td>\n",
       "      <td>1.000000</td>\n",
       "      <td>0.000000</td>\n",
       "      <td>0.000000</td>\n",
       "      <td>0.000000</td>\n",
       "      <td>126.000000</td>\n",
       "      <td>0.000000</td>\n",
       "      <td>0.000000</td>\n",
       "      <td>29.000000</td>\n",
       "      <td>96.000000</td>\n",
       "      <td>0.000000</td>\n",
       "      <td>0.000000</td>\n",
       "    </tr>\n",
       "    <tr>\n",
       "      <th>25%</th>\n",
       "      <td>1.000000</td>\n",
       "      <td>1.000000</td>\n",
       "      <td>120.000000</td>\n",
       "      <td>3.000000</td>\n",
       "      <td>0.000000</td>\n",
       "      <td>0.000000</td>\n",
       "      <td>0.000000</td>\n",
       "      <td>213.750000</td>\n",
       "      <td>0.000000</td>\n",
       "      <td>0.000000</td>\n",
       "      <td>48.000000</td>\n",
       "      <td>132.000000</td>\n",
       "      <td>0.000000</td>\n",
       "      <td>0.000000</td>\n",
       "    </tr>\n",
       "    <tr>\n",
       "      <th>50%</th>\n",
       "      <td>1.000000</td>\n",
       "      <td>1.000000</td>\n",
       "      <td>130.000000</td>\n",
       "      <td>3.000000</td>\n",
       "      <td>0.000000</td>\n",
       "      <td>0.000000</td>\n",
       "      <td>2.000000</td>\n",
       "      <td>245.500000</td>\n",
       "      <td>0.800000</td>\n",
       "      <td>1.000000</td>\n",
       "      <td>55.000000</td>\n",
       "      <td>152.000000</td>\n",
       "      <td>0.000000</td>\n",
       "      <td>0.000000</td>\n",
       "    </tr>\n",
       "    <tr>\n",
       "      <th>75%</th>\n",
       "      <td>2.000000</td>\n",
       "      <td>2.000000</td>\n",
       "      <td>140.000000</td>\n",
       "      <td>4.000000</td>\n",
       "      <td>1.000000</td>\n",
       "      <td>0.000000</td>\n",
       "      <td>2.000000</td>\n",
       "      <td>281.250000</td>\n",
       "      <td>1.600000</td>\n",
       "      <td>1.000000</td>\n",
       "      <td>62.000000</td>\n",
       "      <td>166.250000</td>\n",
       "      <td>1.000000</td>\n",
       "      <td>1.000000</td>\n",
       "    </tr>\n",
       "    <tr>\n",
       "      <th>max</th>\n",
       "      <td>3.000000</td>\n",
       "      <td>2.000000</td>\n",
       "      <td>180.000000</td>\n",
       "      <td>4.000000</td>\n",
       "      <td>3.000000</td>\n",
       "      <td>1.000000</td>\n",
       "      <td>2.000000</td>\n",
       "      <td>564.000000</td>\n",
       "      <td>6.200000</td>\n",
       "      <td>1.000000</td>\n",
       "      <td>77.000000</td>\n",
       "      <td>202.000000</td>\n",
       "      <td>1.000000</td>\n",
       "      <td>1.000000</td>\n",
       "    </tr>\n",
       "  </tbody>\n",
       "</table>\n",
       "</div>"
      ],
      "text/plain": [
       "       slope_of_peak_exercise_st_segment        thal  resting_blood_pressure  \\\n",
       "count                         180.000000  180.000000              180.000000   \n",
       "mean                            1.550000    1.366667              131.311111   \n",
       "std                             0.618838    0.568247               17.010443   \n",
       "min                             1.000000    0.000000               94.000000   \n",
       "25%                             1.000000    1.000000              120.000000   \n",
       "50%                             1.000000    1.000000              130.000000   \n",
       "75%                             2.000000    2.000000              140.000000   \n",
       "max                             3.000000    2.000000              180.000000   \n",
       "\n",
       "       chest_pain_type  num_major_vessels  \\\n",
       "count       180.000000         180.000000   \n",
       "mean          3.155556           0.694444   \n",
       "std           0.938454           0.969347   \n",
       "min           1.000000           0.000000   \n",
       "25%           3.000000           0.000000   \n",
       "50%           3.000000           0.000000   \n",
       "75%           4.000000           1.000000   \n",
       "max           4.000000           3.000000   \n",
       "\n",
       "       fasting_blood_sugar_gt_120_mg_per_dl  resting_ekg_results  \\\n",
       "count                            180.000000           180.000000   \n",
       "mean                               0.161111             1.050000   \n",
       "std                                0.368659             0.998742   \n",
       "min                                0.000000             0.000000   \n",
       "25%                                0.000000             0.000000   \n",
       "50%                                0.000000             2.000000   \n",
       "75%                                0.000000             2.000000   \n",
       "max                                1.000000             2.000000   \n",
       "\n",
       "       serum_cholesterol_mg_per_dl  oldpeak_eq_st_depression         sex  \\\n",
       "count                   180.000000                180.000000  180.000000   \n",
       "mean                    249.211111                  1.010000    0.688889   \n",
       "std                      52.717969                  1.121357    0.464239   \n",
       "min                     126.000000                  0.000000    0.000000   \n",
       "25%                     213.750000                  0.000000    0.000000   \n",
       "50%                     245.500000                  0.800000    1.000000   \n",
       "75%                     281.250000                  1.600000    1.000000   \n",
       "max                     564.000000                  6.200000    1.000000   \n",
       "\n",
       "              age  max_heart_rate_achieved  exercise_induced_angina  \\\n",
       "count  180.000000               180.000000               180.000000   \n",
       "mean    54.811111               149.483333                 0.316667   \n",
       "std      9.334737                22.063513                 0.466474   \n",
       "min     29.000000                96.000000                 0.000000   \n",
       "25%     48.000000               132.000000                 0.000000   \n",
       "50%     55.000000               152.000000                 0.000000   \n",
       "75%     62.000000               166.250000                 1.000000   \n",
       "max     77.000000               202.000000                 1.000000   \n",
       "\n",
       "       heart_disease_present  \n",
       "count             180.000000  \n",
       "mean                0.444444  \n",
       "std                 0.498290  \n",
       "min                 0.000000  \n",
       "25%                 0.000000  \n",
       "50%                 0.000000  \n",
       "75%                 1.000000  \n",
       "max                 1.000000  "
      ]
     },
     "execution_count": 27,
     "metadata": {},
     "output_type": "execute_result"
    }
   ],
   "source": [
    "df.describe()"
   ]
  },
  {
   "cell_type": "markdown",
   "id": "314c69c2-0c3b-43dc-be16-951c534a675d",
   "metadata": {},
   "source": [
    "# Removing Null Values"
   ]
  },
  {
   "cell_type": "code",
   "execution_count": 28,
   "id": "320fbcf4-5e97-4f26-9051-e9b12f2d2d29",
   "metadata": {},
   "outputs": [
    {
     "data": {
      "text/plain": [
       "slope_of_peak_exercise_st_segment       0\n",
       "thal                                    0\n",
       "resting_blood_pressure                  0\n",
       "chest_pain_type                         0\n",
       "num_major_vessels                       0\n",
       "fasting_blood_sugar_gt_120_mg_per_dl    0\n",
       "resting_ekg_results                     0\n",
       "serum_cholesterol_mg_per_dl             0\n",
       "oldpeak_eq_st_depression                0\n",
       "sex                                     0\n",
       "age                                     0\n",
       "max_heart_rate_achieved                 0\n",
       "exercise_induced_angina                 0\n",
       "heart_disease_present                   0\n",
       "dtype: int64"
      ]
     },
     "execution_count": 28,
     "metadata": {},
     "output_type": "execute_result"
    }
   ],
   "source": [
    "df.isnull().sum()"
   ]
  },
  {
   "cell_type": "markdown",
   "id": "cd137f2c-f9b0-458c-906c-6ba52257a076",
   "metadata": {},
   "source": [
    "# Remove Duplicate value"
   ]
  },
  {
   "cell_type": "code",
   "execution_count": 29,
   "id": "5de28a1a-162f-4c4c-97a8-a05a1cfd4d13",
   "metadata": {},
   "outputs": [
    {
     "data": {
      "text/plain": [
       "0"
      ]
     },
     "execution_count": 29,
     "metadata": {},
     "output_type": "execute_result"
    }
   ],
   "source": [
    "df.duplicated().sum()"
   ]
  },
  {
   "cell_type": "markdown",
   "id": "3e21dc01-a14c-4575-b68e-2c16bad4d8cf",
   "metadata": {},
   "source": [
    "# Shape of data"
   ]
  },
  {
   "cell_type": "code",
   "execution_count": 30,
   "id": "ad493810-13ce-47c2-a9fd-466b3a976f73",
   "metadata": {},
   "outputs": [
    {
     "data": {
      "text/plain": [
       "(180, 14)"
      ]
     },
     "execution_count": 30,
     "metadata": {},
     "output_type": "execute_result"
    }
   ],
   "source": [
    "df.shape"
   ]
  },
  {
   "cell_type": "markdown",
   "id": "47016fd2-eaa4-464f-8bd8-6e80bdc4d936",
   "metadata": {},
   "source": [
    "# Checking for outliers"
   ]
  },
  {
   "cell_type": "code",
   "execution_count": 31,
   "id": "5ab08c37-be44-44a3-9bce-8417bf51f419",
   "metadata": {},
   "outputs": [
    {
     "data": {
      "image/png": "[encoded data removed]",
      "text/plain": [
       "<Figure size 1000x1000 with 13 Axes>"
      ]
     },
     "metadata": {},
     "output_type": "display_data"
    }
   ],
   "source": [
    "plt.figure(figsize=(10,10))\n",
    "plotnumber = 1\n",
    "\n",
    "for i in df.drop(['heart_disease_present'],axis=1):\n",
    "    if plotnumber <= 15:\n",
    "        ax = plt.subplot(4,4,plotnumber)\n",
    "        sns.boxplot(y=df[i],ax=ax)\n",
    "        plt.xlabel(i,fontsize=10)\n",
    "    plotnumber +=1\n",
    "plt.tight_layout()\n",
    "plt.show()"
   ]
  },
  {
   "cell_type": "markdown",
   "id": "b61492e5-1f75-4c10-8443-ae2ecc86efe0",
   "metadata": {},
   "source": [
    "# Let's understand our columns better"
   ]
  },
  {
   "cell_type": "code",
   "execution_count": 32,
   "id": "1090c215-bf67-4ab6-b947-b77608ace871",
   "metadata": {},
   "outputs": [
    {
     "data": {
      "text/plain": [
       "Index(['slope_of_peak_exercise_st_segment', 'thal', 'resting_blood_pressure',\n",
       "       'chest_pain_type', 'num_major_vessels',\n",
       "       'fasting_blood_sugar_gt_120_mg_per_dl', 'resting_ekg_results',\n",
       "       'serum_cholesterol_mg_per_dl', 'oldpeak_eq_st_depression', 'sex', 'age',\n",
       "       'max_heart_rate_achieved', 'exercise_induced_angina',\n",
       "       'heart_disease_present'],\n",
       "      dtype='object')"
      ]
     },
     "execution_count": 32,
     "metadata": {},
     "output_type": "execute_result"
    }
   ],
   "source": [
    "df.columns"
   ]
  },
  {
   "cell_type": "markdown",
   "id": "24b2029b-071e-4908-9c87-97ec96561366",
   "metadata": {},
   "source": [
    "#  Analyse the heart_disease_present variable"
   ]
  },
  {
   "cell_type": "code",
   "execution_count": 33,
   "id": "6cfce81b-ce50-4753-ace3-f0b7f7813b1c",
   "metadata": {},
   "outputs": [
    {
     "data": {
      "text/plain": [
       "count    180.000000\n",
       "mean       0.444444\n",
       "std        0.498290\n",
       "min        0.000000\n",
       "25%        0.000000\n",
       "50%        0.000000\n",
       "75%        1.000000\n",
       "max        1.000000\n",
       "Name: heart_disease_present, dtype: float64"
      ]
     },
     "execution_count": 33,
     "metadata": {},
     "output_type": "execute_result"
    }
   ],
   "source": [
    "df['heart_disease_present'].describe()"
   ]
  },
  {
   "cell_type": "code",
   "execution_count": 34,
   "id": "7f06b897-d73d-49f8-9684-55e95dfe2248",
   "metadata": {},
   "outputs": [
    {
     "data": {
      "text/plain": [
       "slope_of_peak_exercise_st_segment         int64\n",
       "thal                                      int32\n",
       "resting_blood_pressure                    int64\n",
       "chest_pain_type                           int64\n",
       "num_major_vessels                         int64\n",
       "fasting_blood_sugar_gt_120_mg_per_dl      int64\n",
       "resting_ekg_results                       int64\n",
       "serum_cholesterol_mg_per_dl               int64\n",
       "oldpeak_eq_st_depression                float64\n",
       "sex                                       int64\n",
       "age                                       int64\n",
       "max_heart_rate_achieved                   int64\n",
       "exercise_induced_angina                   int64\n",
       "heart_disease_present                     int64\n",
       "dtype: object"
      ]
     },
     "execution_count": 34,
     "metadata": {},
     "output_type": "execute_result"
    }
   ],
   "source": [
    "df.dtypes"
   ]
  },
  {
   "cell_type": "code",
   "execution_count": 35,
   "id": "726603e6-2e4f-4a88-a770-f93024a75885",
   "metadata": {},
   "outputs": [
    {
     "data": {
      "text/plain": [
       "array([0, 1], dtype=int64)"
      ]
     },
     "execution_count": 35,
     "metadata": {},
     "output_type": "execute_result"
    }
   ],
   "source": [
    "df['heart_disease_present'].unique()"
   ]
  },
  {
   "cell_type": "markdown",
   "id": "2d2cdc4f-f788-447d-afea-dbeb5207e6d8",
   "metadata": {},
   "source": [
    "# Checking correlation between columns"
   ]
  },
  {
   "cell_type": "code",
   "execution_count": 36,
   "id": "7cc20e3c-ec48-4425-be0f-50180c42587a",
   "metadata": {},
   "outputs": [
    {
     "name": "stdout",
     "output_type": "stream",
     "text": [
      "heart_disease_present                   1.000000\n",
      "exercise_induced_angina                 0.448647\n",
      "thal                                    0.447214\n",
      "num_major_vessels                       0.421519\n",
      "chest_pain_type                         0.412829\n",
      "oldpeak_eq_st_depression                0.382930\n",
      "max_heart_rate_achieved                 0.375352\n",
      "slope_of_peak_exercise_st_segment       0.344224\n",
      "sex                                     0.335421\n",
      "resting_ekg_results                     0.145933\n",
      "age                                     0.138255\n",
      "serum_cholesterol_mg_per_dl             0.079775\n",
      "resting_blood_pressure                  0.078506\n",
      "fasting_blood_sugar_gt_120_mg_per_dl    0.003379\n",
      "Name: heart_disease_present, dtype: float64\n"
     ]
    }
   ],
   "source": [
    "print(df.corr()[\"heart_disease_present\"].abs().sort_values(ascending=False))\n"
   ]
  },
  {
   "cell_type": "code",
   "execution_count": 37,
   "id": "89a4b8dd-ce59-4449-8399-c4b6223e7df4",
   "metadata": {},
   "outputs": [],
   "source": [
    "#This shows that most columns are moderately correlated with target, but 'fbs' is very weakly correlated."
   ]
  },
  {
   "cell_type": "markdown",
   "id": "5d3cc9d6-3a24-4ec9-905a-7a96623195ed",
   "metadata": {},
   "source": [
    "# Exploratory Data Analysis (EDA)\n"
   ]
  },
  {
   "cell_type": "code",
   "execution_count": 8,
   "id": "2cc30b6a-42f8-4e03-873d-42e51c1f9ceb",
   "metadata": {},
   "outputs": [
    {
     "data": {
      "text/html": [
       "<div>\n",
       "<style scoped>\n",
       "    .dataframe tbody tr th:only-of-type {\n",
       "        vertical-align: middle;\n",
       "    }\n",
       "\n",
       "    .dataframe tbody tr th {\n",
       "        vertical-align: top;\n",
       "    }\n",
       "\n",
       "    .dataframe thead th {\n",
       "        text-align: right;\n",
       "    }\n",
       "</style>\n",
       "<table border=\"1\" class=\"dataframe\">\n",
       "  <thead>\n",
       "    <tr style=\"text-align: right;\">\n",
       "      <th></th>\n",
       "      <th>count</th>\n",
       "      <th>mean</th>\n",
       "      <th>std</th>\n",
       "      <th>min</th>\n",
       "      <th>25%</th>\n",
       "      <th>50%</th>\n",
       "      <th>75%</th>\n",
       "      <th>max</th>\n",
       "    </tr>\n",
       "  </thead>\n",
       "  <tbody>\n",
       "    <tr>\n",
       "      <th>slope_of_peak_exercise_st_segment</th>\n",
       "      <td>180.0</td>\n",
       "      <td>1.550000</td>\n",
       "      <td>0.618838</td>\n",
       "      <td>1.0</td>\n",
       "      <td>1.00</td>\n",
       "      <td>1.0</td>\n",
       "      <td>2.00</td>\n",
       "      <td>3.0</td>\n",
       "    </tr>\n",
       "    <tr>\n",
       "      <th>resting_blood_pressure</th>\n",
       "      <td>180.0</td>\n",
       "      <td>131.311111</td>\n",
       "      <td>17.010443</td>\n",
       "      <td>94.0</td>\n",
       "      <td>120.00</td>\n",
       "      <td>130.0</td>\n",
       "      <td>140.00</td>\n",
       "      <td>180.0</td>\n",
       "    </tr>\n",
       "    <tr>\n",
       "      <th>chest_pain_type</th>\n",
       "      <td>180.0</td>\n",
       "      <td>3.155556</td>\n",
       "      <td>0.938454</td>\n",
       "      <td>1.0</td>\n",
       "      <td>3.00</td>\n",
       "      <td>3.0</td>\n",
       "      <td>4.00</td>\n",
       "      <td>4.0</td>\n",
       "    </tr>\n",
       "    <tr>\n",
       "      <th>num_major_vessels</th>\n",
       "      <td>180.0</td>\n",
       "      <td>0.694444</td>\n",
       "      <td>0.969347</td>\n",
       "      <td>0.0</td>\n",
       "      <td>0.00</td>\n",
       "      <td>0.0</td>\n",
       "      <td>1.00</td>\n",
       "      <td>3.0</td>\n",
       "    </tr>\n",
       "    <tr>\n",
       "      <th>fasting_blood_sugar_gt_120_mg_per_dl</th>\n",
       "      <td>180.0</td>\n",
       "      <td>0.161111</td>\n",
       "      <td>0.368659</td>\n",
       "      <td>0.0</td>\n",
       "      <td>0.00</td>\n",
       "      <td>0.0</td>\n",
       "      <td>0.00</td>\n",
       "      <td>1.0</td>\n",
       "    </tr>\n",
       "    <tr>\n",
       "      <th>resting_ekg_results</th>\n",
       "      <td>180.0</td>\n",
       "      <td>1.050000</td>\n",
       "      <td>0.998742</td>\n",
       "      <td>0.0</td>\n",
       "      <td>0.00</td>\n",
       "      <td>2.0</td>\n",
       "      <td>2.00</td>\n",
       "      <td>2.0</td>\n",
       "    </tr>\n",
       "    <tr>\n",
       "      <th>serum_cholesterol_mg_per_dl</th>\n",
       "      <td>180.0</td>\n",
       "      <td>249.211111</td>\n",
       "      <td>52.717969</td>\n",
       "      <td>126.0</td>\n",
       "      <td>213.75</td>\n",
       "      <td>245.5</td>\n",
       "      <td>281.25</td>\n",
       "      <td>564.0</td>\n",
       "    </tr>\n",
       "    <tr>\n",
       "      <th>oldpeak_eq_st_depression</th>\n",
       "      <td>180.0</td>\n",
       "      <td>1.010000</td>\n",
       "      <td>1.121357</td>\n",
       "      <td>0.0</td>\n",
       "      <td>0.00</td>\n",
       "      <td>0.8</td>\n",
       "      <td>1.60</td>\n",
       "      <td>6.2</td>\n",
       "    </tr>\n",
       "    <tr>\n",
       "      <th>sex</th>\n",
       "      <td>180.0</td>\n",
       "      <td>0.688889</td>\n",
       "      <td>0.464239</td>\n",
       "      <td>0.0</td>\n",
       "      <td>0.00</td>\n",
       "      <td>1.0</td>\n",
       "      <td>1.00</td>\n",
       "      <td>1.0</td>\n",
       "    </tr>\n",
       "    <tr>\n",
       "      <th>age</th>\n",
       "      <td>180.0</td>\n",
       "      <td>54.811111</td>\n",
       "      <td>9.334737</td>\n",
       "      <td>29.0</td>\n",
       "      <td>48.00</td>\n",
       "      <td>55.0</td>\n",
       "      <td>62.00</td>\n",
       "      <td>77.0</td>\n",
       "    </tr>\n",
       "    <tr>\n",
       "      <th>max_heart_rate_achieved</th>\n",
       "      <td>180.0</td>\n",
       "      <td>149.483333</td>\n",
       "      <td>22.063513</td>\n",
       "      <td>96.0</td>\n",
       "      <td>132.00</td>\n",
       "      <td>152.0</td>\n",
       "      <td>166.25</td>\n",
       "      <td>202.0</td>\n",
       "    </tr>\n",
       "    <tr>\n",
       "      <th>exercise_induced_angina</th>\n",
       "      <td>180.0</td>\n",
       "      <td>0.316667</td>\n",
       "      <td>0.466474</td>\n",
       "      <td>0.0</td>\n",
       "      <td>0.00</td>\n",
       "      <td>0.0</td>\n",
       "      <td>1.00</td>\n",
       "      <td>1.0</td>\n",
       "    </tr>\n",
       "    <tr>\n",
       "      <th>heart_disease_present</th>\n",
       "      <td>180.0</td>\n",
       "      <td>0.444444</td>\n",
       "      <td>0.498290</td>\n",
       "      <td>0.0</td>\n",
       "      <td>0.00</td>\n",
       "      <td>0.0</td>\n",
       "      <td>1.00</td>\n",
       "      <td>1.0</td>\n",
       "    </tr>\n",
       "  </tbody>\n",
       "</table>\n",
       "</div>"
      ],
      "text/plain": [
       "                                      count        mean        std    min  \\\n",
       "slope_of_peak_exercise_st_segment     180.0    1.550000   0.618838    1.0   \n",
       "resting_blood_pressure                180.0  131.311111  17.010443   94.0   \n",
       "chest_pain_type                       180.0    3.155556   0.938454    1.0   \n",
       "num_major_vessels                     180.0    0.694444   0.969347    0.0   \n",
       "fasting_blood_sugar_gt_120_mg_per_dl  180.0    0.161111   0.368659    0.0   \n",
       "resting_ekg_results                   180.0    1.050000   0.998742    0.0   \n",
       "serum_cholesterol_mg_per_dl           180.0  249.211111  52.717969  126.0   \n",
       "oldpeak_eq_st_depression              180.0    1.010000   1.121357    0.0   \n",
       "sex                                   180.0    0.688889   0.464239    0.0   \n",
       "age                                   180.0   54.811111   9.334737   29.0   \n",
       "max_heart_rate_achieved               180.0  149.483333  22.063513   96.0   \n",
       "exercise_induced_angina               180.0    0.316667   0.466474    0.0   \n",
       "heart_disease_present                 180.0    0.444444   0.498290    0.0   \n",
       "\n",
       "                                         25%    50%     75%    max  \n",
       "slope_of_peak_exercise_st_segment       1.00    1.0    2.00    3.0  \n",
       "resting_blood_pressure                120.00  130.0  140.00  180.0  \n",
       "chest_pain_type                         3.00    3.0    4.00    4.0  \n",
       "num_major_vessels                       0.00    0.0    1.00    3.0  \n",
       "fasting_blood_sugar_gt_120_mg_per_dl    0.00    0.0    0.00    1.0  \n",
       "resting_ekg_results                     0.00    2.0    2.00    2.0  \n",
       "serum_cholesterol_mg_per_dl           213.75  245.5  281.25  564.0  \n",
       "oldpeak_eq_st_depression                0.00    0.8    1.60    6.2  \n",
       "sex                                     0.00    1.0    1.00    1.0  \n",
       "age                                    48.00   55.0   62.00   77.0  \n",
       "max_heart_rate_achieved               132.00  152.0  166.25  202.0  \n",
       "exercise_induced_angina                 0.00    0.0    1.00    1.0  \n",
       "heart_disease_present                   0.00    0.0    1.00    1.0  "
      ]
     },
     "execution_count": 8,
     "metadata": {},
     "output_type": "execute_result"
    }
   ],
   "source": [
    "# Summary statistics\n",
    "df.describe().T"
   ]
  },
  {
   "cell_type": "code",
   "execution_count": 39,
   "id": "f936d15b-9a1b-4a26-802b-cfa0c40766c2",
   "metadata": {},
   "outputs": [
    {
     "name": "stdout",
     "output_type": "stream",
     "text": [
      "<class 'pandas.core.frame.DataFrame'>\n",
      "RangeIndex: 180 entries, 0 to 179\n",
      "Data columns (total 14 columns):\n",
      " #   Column                                Non-Null Count  Dtype  \n",
      "---  ------                                --------------  -----  \n",
      " 0   slope_of_peak_exercise_st_segment     180 non-null    int64  \n",
      " 1   thal                                  180 non-null    int32  \n",
      " 2   resting_blood_pressure                180 non-null    int64  \n",
      " 3   chest_pain_type                       180 non-null    int64  \n",
      " 4   num_major_vessels                     180 non-null    int64  \n",
      " 5   fasting_blood_sugar_gt_120_mg_per_dl  180 non-null    int64  \n",
      " 6   resting_ekg_results                   180 non-null    int64  \n",
      " 7   serum_cholesterol_mg_per_dl           180 non-null    int64  \n",
      " 8   oldpeak_eq_st_depression              180 non-null    float64\n",
      " 9   sex                                   180 non-null    int64  \n",
      " 10  age                                   180 non-null    int64  \n",
      " 11  max_heart_rate_achieved               180 non-null    int64  \n",
      " 12  exercise_induced_angina               180 non-null    int64  \n",
      " 13  heart_disease_present                 180 non-null    int64  \n",
      "dtypes: float64(1), int32(1), int64(12)\n",
      "memory usage: 19.1 KB\n"
     ]
    }
   ],
   "source": [
    "df.info(\"sex\")"
   ]
  },
  {
   "cell_type": "code",
   "execution_count": 40,
   "id": "3d1402bf-2a75-4020-be0b-29f82ba323a5",
   "metadata": {},
   "outputs": [
    {
     "name": "stdout",
     "output_type": "stream",
     "text": [
      "\n"
     ]
    },
    {
     "data": {
      "image/png": "[encoded data removed]",
      "text/plain": [
       "<Figure size 640x480 with 1 Axes>"
      ]
     },
     "metadata": {},
     "output_type": "display_data"
    }
   ],
   "source": [
    "import seaborn as sns\n",
    "sns.countplot(x=\"sex\",data=df)\n",
    "print()\n",
    "plt.tight_layout()\n",
    "plt.show()"
   ]
  },
  {
   "cell_type": "code",
   "execution_count": 41,
   "id": "f0a07d2b-57b6-4a20-ab9f-7397f0780b32",
   "metadata": {},
   "outputs": [
    {
     "data": {
      "text/plain": [
       "thal\n",
       "1    98\n",
       "2    74\n",
       "0     8\n",
       "Name: count, dtype: int64"
      ]
     },
     "execution_count": 41,
     "metadata": {},
     "output_type": "execute_result"
    }
   ],
   "source": [
    "df['thal'].value_counts()                "
   ]
  },
  {
   "cell_type": "code",
   "execution_count": 42,
   "id": "1a2147ae-13ef-4a83-b39b-36119083a871",
   "metadata": {},
   "outputs": [
    {
     "data": {
      "image/png": "[encoded data removed]",
      "text/plain": [
       "<Figure size 640x480 with 1 Axes>"
      ]
     },
     "metadata": {},
     "output_type": "display_data"
    }
   ],
   "source": [
    "sns.countplot(x='heart_disease_present',hue='chest_pain_type',data=df)\n",
    "plt.tight_layout()\n",
    "plt.show()"
   ]
  },
  {
   "cell_type": "markdown",
   "id": "5f297ad3-68a6-4216-a814-ae33bebfbba7",
   "metadata": {},
   "source": [
    "# Analysing the 'Chest Pain Type' feature"
   ]
  },
  {
   "cell_type": "code",
   "execution_count": 43,
   "id": "9abf07fb-0e8f-4064-8518-1ddfcc36fce0",
   "metadata": {},
   "outputs": [
    {
     "data": {
      "text/plain": [
       "array([2, 3, 4, 1], dtype=int64)"
      ]
     },
     "execution_count": 43,
     "metadata": {},
     "output_type": "execute_result"
    }
   ],
   "source": [
    "df[\"chest_pain_type\"].unique()"
   ]
  },
  {
   "cell_type": "code",
   "execution_count": 44,
   "id": "bb80c3bc-5cec-473b-a969-82034ded6d32",
   "metadata": {},
   "outputs": [
    {
     "data": {
      "image/png": "[encoded data removed]",
      "text/plain": [
       "<Figure size 640x480 with 1 Axes>"
      ]
     },
     "metadata": {},
     "output_type": "display_data"
    }
   ],
   "source": [
    "sns.barplot(x=\"chest_pain_type\",y=\"age\",data=df)\n",
    "plt.tight_layout()\n",
    "plt.show()"
   ]
  },
  {
   "cell_type": "markdown",
   "id": "7a3c5e5c-4f6d-4092-ba5c-8c5622905647",
   "metadata": {},
   "source": [
    "# Analysing the FBS feature"
   ]
  },
  {
   "cell_type": "code",
   "execution_count": 45,
   "id": "9c9257b8-f1be-440a-9b4b-c32c4ae3135c",
   "metadata": {},
   "outputs": [
    {
     "data": {
      "text/plain": [
       "count    180.000000\n",
       "mean       0.161111\n",
       "std        0.368659\n",
       "min        0.000000\n",
       "25%        0.000000\n",
       "50%        0.000000\n",
       "75%        0.000000\n",
       "max        1.000000\n",
       "Name: fasting_blood_sugar_gt_120_mg_per_dl, dtype: float64"
      ]
     },
     "execution_count": 45,
     "metadata": {},
     "output_type": "execute_result"
    }
   ],
   "source": [
    "df[\"fasting_blood_sugar_gt_120_mg_per_dl\"].describe()"
   ]
  },
  {
   "cell_type": "code",
   "execution_count": 46,
   "id": "d21f46ad-53ab-4344-96d9-4c680a495d49",
   "metadata": {},
   "outputs": [
    {
     "data": {
      "image/png": "[encoded data removed]",
      "text/plain": [
       "<Figure size 640x480 with 1 Axes>"
      ]
     },
     "metadata": {},
     "output_type": "display_data"
    }
   ],
   "source": [
    "sns.barplot(x=\"fasting_blood_sugar_gt_120_mg_per_dl\",y=\"age\",data=df)\n",
    "plt.tight_layout()\n",
    "plt.show()"
   ]
  },
  {
   "cell_type": "markdown",
   "id": "75d90667-d5cb-4dca-b904-760aec378b65",
   "metadata": {},
   "source": [
    " # Modelling and predicting with Machine Learning\n",
    "\n",
    "The main goal of the entire project is to predict heart disease occurrence with the highest accuracy. In order to achieve this, we will test several classification algorithms. This section includes all results obtained from the study and introduces the best performer according to accuracy metric. I have chosen several algorithms typical for solving supervised learning problems throughout classification methods.\n",
    "\n",
    "First of all, let's equip ourselves with a handy tool that benefits from the cohesion of SciKit Learn library and formulate a general function for training our models. The reason for displaying accuracy on both, train and test sets, is to allow us to evaluate whether the model overfits or underfits the data (so-called bias/variance tradeoff)."
   ]
  },
  {
   "cell_type": "markdown",
   "id": "ef5aab15-ebc7-46f8-aeaa-994754851a82",
   "metadata": {},
   "source": [
    "# Train and Split"
   ]
  },
  {
   "cell_type": "code",
   "execution_count": 47,
   "id": "3ff75fbc-6af2-4c52-9021-9dfe2179323c",
   "metadata": {},
   "outputs": [],
   "source": [
    "from sklearn.model_selection import train_test_split\n",
    "\n",
    "predictors = df.drop(\"heart_disease_present\",axis=1)\n",
    "heart_disease_present = df[\"heart_disease_present\"] \n",
    "\n",
    "X_train,X_test,Y_train,Y_test = train_test_split(predictors,heart_disease_present,test_size=0.20,random_state=0)"
   ]
  },
  {
   "cell_type": "code",
   "execution_count": 48,
   "id": "c66348f2-3403-45d4-9414-89beb26de441",
   "metadata": {},
   "outputs": [
    {
     "data": {
      "text/plain": [
       "(144, 13)"
      ]
     },
     "execution_count": 48,
     "metadata": {},
     "output_type": "execute_result"
    }
   ],
   "source": [
    "X_train.shape"
   ]
  },
  {
   "cell_type": "code",
   "execution_count": 49,
   "id": "0b1c3c2a-c590-4405-9656-e5dbc166590b",
   "metadata": {},
   "outputs": [
    {
     "data": {
      "text/plain": [
       "(36, 13)"
      ]
     },
     "execution_count": 49,
     "metadata": {},
     "output_type": "execute_result"
    }
   ],
   "source": [
    "X_test.shape"
   ]
  },
  {
   "cell_type": "code",
   "execution_count": 50,
   "id": "b8205287-58ed-4591-838d-9b4c94a53301",
   "metadata": {},
   "outputs": [
    {
     "data": {
      "text/plain": [
       "(144,)"
      ]
     },
     "execution_count": 50,
     "metadata": {},
     "output_type": "execute_result"
    }
   ],
   "source": [
    "Y_train.shape"
   ]
  },
  {
   "cell_type": "code",
   "execution_count": 51,
   "id": "9bad1347-7722-4292-a740-fe3ba91e5c81",
   "metadata": {},
   "outputs": [
    {
     "data": {
      "text/plain": [
       "(36,)"
      ]
     },
     "execution_count": 51,
     "metadata": {},
     "output_type": "execute_result"
    }
   ],
   "source": [
    "Y_test.shape"
   ]
  },
  {
   "cell_type": "markdown",
   "id": "5617cb67-00fe-484e-80b9-49bbe513fe95",
   "metadata": {},
   "source": [
    "# Model Fitting"
   ]
  },
  {
   "cell_type": "code",
   "execution_count": 52,
   "id": "d0dd1723-4076-4913-83c2-3ec580ec9442",
   "metadata": {},
   "outputs": [],
   "source": [
    "from sklearn.metrics import accuracy_score "
   ]
  },
  {
   "cell_type": "markdown",
   "id": "c3fe72fd-d8a0-480e-ab72-bce2a2f85463",
   "metadata": {},
   "source": [
    "# Logistic Regression"
   ]
  },
  {
   "cell_type": "code",
   "execution_count": 53,
   "id": "e2ef4e2e-e39b-42ba-a361-d5c7e5c8ad3e",
   "metadata": {},
   "outputs": [],
   "source": [
    "from sklearn.linear_model import LogisticRegression\n",
    "\n",
    "lr = LogisticRegression()\n",
    "\n",
    "lr.fit(X_train,Y_train)\n",
    "\n",
    "Y_pred_lr = lr.predict(X_test)"
   ]
  },
  {
   "cell_type": "code",
   "execution_count": 54,
   "id": "f9293fe2-ef49-4bf4-b08e-83e15dbc5e44",
   "metadata": {},
   "outputs": [
    {
     "data": {
      "text/plain": [
       "(36,)"
      ]
     },
     "execution_count": 54,
     "metadata": {},
     "output_type": "execute_result"
    }
   ],
   "source": [
    "Y_pred_lr.shape"
   ]
  },
  {
   "cell_type": "code",
   "execution_count": 55,
   "id": "7eed5f15-eef0-4efc-a71c-5539f6e8861b",
   "metadata": {},
   "outputs": [
    {
     "name": "stdout",
     "output_type": "stream",
     "text": [
      "The accuracy score achieved using Logistic Regression is: 86.11 %\n"
     ]
    }
   ],
   "source": [
    "score_lr = round(accuracy_score(Y_pred_lr,Y_test)*100,2)\n",
    "\n",
    "print(\"The accuracy score achieved using Logistic Regression is: \"+str(score_lr)+\" %\")"
   ]
  },
  {
   "cell_type": "markdown",
   "id": "71963ae3-cbd2-406c-8b09-7d25c9518804",
   "metadata": {},
   "source": [
    "# Naive Bayes"
   ]
  },
  {
   "cell_type": "code",
   "execution_count": 56,
   "id": "2b681f25-1407-4feb-b67b-a56b1f606351",
   "metadata": {},
   "outputs": [],
   "source": [
    "from sklearn.naive_bayes import GaussianNB\n",
    "\n",
    "nb = GaussianNB()\n",
    "\n",
    "nb.fit(X_train,Y_train)\n",
    "\n",
    "Y_pred_nb = nb.predict(X_test)"
   ]
  },
  {
   "cell_type": "code",
   "execution_count": 57,
   "id": "d1e2b29c-5afc-41d8-bf7e-3ceb103558d4",
   "metadata": {},
   "outputs": [
    {
     "data": {
      "text/plain": [
       "(36,)"
      ]
     },
     "execution_count": 57,
     "metadata": {},
     "output_type": "execute_result"
    }
   ],
   "source": [
    "Y_pred_nb.shape"
   ]
  },
  {
   "cell_type": "code",
   "execution_count": 58,
   "id": "746d39a1-a6c4-40fa-a6fa-905dc4159e4e",
   "metadata": {},
   "outputs": [
    {
     "name": "stdout",
     "output_type": "stream",
     "text": [
      "The accuracy score achieved using Naive Bayes is: 80.56 %\n"
     ]
    }
   ],
   "source": [
    "score_nb = round(accuracy_score(Y_pred_nb,Y_test)*100,2)\n",
    "\n",
    "print(\"The accuracy score achieved using Naive Bayes is: \"+str(score_nb)+\" %\")"
   ]
  },
  {
   "cell_type": "markdown",
   "id": "17485e94-15ac-4a80-8cee-3bbedda5a43f",
   "metadata": {},
   "source": [
    "# SVM"
   ]
  },
  {
   "cell_type": "code",
   "execution_count": 59,
   "id": "04fe3c79-3e91-4d02-ae64-3bc84e86256d",
   "metadata": {},
   "outputs": [],
   "source": [
    "from sklearn import svm\n",
    "\n",
    "sv = svm.SVC(kernel='linear')\n",
    "\n",
    "sv.fit(X_train, Y_train)\n",
    "\n",
    "Y_pred_svm = sv.predict(X_test)"
   ]
  },
  {
   "cell_type": "code",
   "execution_count": 60,
   "id": "c81933d9-8c0c-4591-aa88-550382d66220",
   "metadata": {},
   "outputs": [
    {
     "data": {
      "text/plain": [
       "(36,)"
      ]
     },
     "execution_count": 60,
     "metadata": {},
     "output_type": "execute_result"
    }
   ],
   "source": [
    "Y_pred_svm.shape"
   ]
  },
  {
   "cell_type": "code",
   "execution_count": 61,
   "id": "5f47015b-13a1-4339-8895-0a0213e25193",
   "metadata": {},
   "outputs": [
    {
     "name": "stdout",
     "output_type": "stream",
     "text": [
      "The accuracy score achieved using Linear SVM is: 80.56 %\n"
     ]
    }
   ],
   "source": [
    "score_svm = round(accuracy_score(Y_pred_svm,Y_test)*100,2)\n",
    "\n",
    "print(\"The accuracy score achieved using Linear SVM is: \"+str(score_svm)+\" %\")"
   ]
  },
  {
   "cell_type": "markdown",
   "id": "0302164f-e36d-47f2-9909-05bb9d190c31",
   "metadata": {},
   "source": [
    "# K Nearest Neighbors"
   ]
  },
  {
   "cell_type": "code",
   "execution_count": 62,
   "id": "52c510c1-492d-40f8-91ed-51e2b46da140",
   "metadata": {},
   "outputs": [],
   "source": [
    "from sklearn.neighbors import KNeighborsClassifier\n",
    "\n",
    "knn = KNeighborsClassifier(n_neighbors=7)\n",
    "knn.fit(X_train,Y_train)\n",
    "Y_pred_knn=knn.predict(X_test)"
   ]
  },
  {
   "cell_type": "code",
   "execution_count": 63,
   "id": "fc8b79eb-d715-425f-9cbc-9840a2d829b9",
   "metadata": {},
   "outputs": [
    {
     "data": {
      "text/plain": [
       "(36,)"
      ]
     },
     "execution_count": 63,
     "metadata": {},
     "output_type": "execute_result"
    }
   ],
   "source": [
    "Y_pred_knn.shape"
   ]
  },
  {
   "cell_type": "code",
   "execution_count": 64,
   "id": "246c2145-9444-42c3-a554-3e21232dcd07",
   "metadata": {},
   "outputs": [
    {
     "name": "stdout",
     "output_type": "stream",
     "text": [
      "The accuracy score achieved using KNN is: 55.56 %\n"
     ]
    }
   ],
   "source": [
    "score_knn = round(accuracy_score(Y_pred_knn,Y_test)*100,2)\n",
    "\n",
    "print(\"The accuracy score achieved using KNN is: \"+str(score_knn)+\" %\")"
   ]
  },
  {
   "cell_type": "markdown",
   "id": "4a1852cf-4bd6-43c3-8a7e-b10258f41360",
   "metadata": {},
   "source": [
    "# Decision Tree"
   ]
  },
  {
   "cell_type": "code",
   "execution_count": 65,
   "id": "dc80a3b4-c0c9-4695-a60d-4b3296931408",
   "metadata": {},
   "outputs": [],
   "source": [
    "from sklearn.tree import DecisionTreeClassifier\n",
    "\n",
    "max_accuracy = 0\n",
    "\n",
    "\n",
    "for x in range(200):\n",
    "    dt = DecisionTreeClassifier(random_state=x)\n",
    "    dt.fit(X_train,Y_train)\n",
    "    Y_pred_dt = dt.predict(X_test)\n",
    "    current_accuracy = round(accuracy_score(Y_pred_dt,Y_test)*100,2)\n",
    "    if(current_accuracy>max_accuracy):\n",
    "        max_accuracy = current_accuracy\n",
    "        best_x = x\n",
    "        \n",
    "#print(max_accuracy)\n",
    "#print(best_x)\n",
    "\n",
    "\n",
    "dt = DecisionTreeClassifier(random_state=best_x)\n",
    "dt.fit(X_train,Y_train)\n",
    "Y_pred_dt = dt.predict(X_test)"
   ]
  },
  {
   "cell_type": "code",
   "execution_count": 66,
   "id": "74b10924-3459-4927-8a0c-8dcd98d0e4e5",
   "metadata": {},
   "outputs": [
    {
     "name": "stdout",
     "output_type": "stream",
     "text": [
      "(36,)\n"
     ]
    }
   ],
   "source": [
    "print(Y_pred_dt.shape)"
   ]
  },
  {
   "cell_type": "code",
   "execution_count": 67,
   "id": "764921bc-8c5a-4bef-9935-73654f156136",
   "metadata": {},
   "outputs": [
    {
     "name": "stdout",
     "output_type": "stream",
     "text": [
      "The accuracy score achieved using Decision Tree is: 77.78 %\n"
     ]
    }
   ],
   "source": [
    "score_dt = round(accuracy_score(Y_pred_dt,Y_test)*100,2)\n",
    "\n",
    "print(\"The accuracy score achieved using Decision Tree is: \"+str(score_dt)+\" %\")"
   ]
  },
  {
   "cell_type": "markdown",
   "id": "ef64700f-f451-4518-b735-5ece37482010",
   "metadata": {},
   "source": [
    "# Random Forest"
   ]
  },
  {
   "cell_type": "code",
   "execution_count": 68,
   "id": "10e1ba61-4181-4f25-a611-546ed07eba45",
   "metadata": {},
   "outputs": [],
   "source": [
    "from sklearn.ensemble import RandomForestClassifier\n",
    "\n",
    "max_accuracy = 0\n",
    "\n",
    "\n",
    "for x in range(2000):\n",
    "    rf = RandomForestClassifier(random_state=x)\n",
    "    rf.fit(X_train,Y_train)\n",
    "    Y_pred_rf = rf.predict(X_test)\n",
    "    current_accuracy = round(accuracy_score(Y_pred_rf,Y_test)*100,2)\n",
    "    if(current_accuracy>max_accuracy):\n",
    "        max_accuracy = current_accuracy\n",
    "        best_x = x\n",
    "        \n",
    "#print(max_accuracy)\n",
    "#print(best_x)\n",
    "\n",
    "rf = RandomForestClassifier(random_state=best_x)\n",
    "rf.fit(X_train,Y_train)\n",
    "Y_pred_rf = rf.predict(X_test)\n",
    "\n"
   ]
  },
  {
   "cell_type": "code",
   "execution_count": 69,
   "id": "38d45fe1-8214-43c1-a1d5-a5d1e7656d8b",
   "metadata": {},
   "outputs": [
    {
     "data": {
      "text/plain": [
       "(36,)"
      ]
     },
     "execution_count": 69,
     "metadata": {},
     "output_type": "execute_result"
    }
   ],
   "source": [
    "Y_pred_rf.shape"
   ]
  },
  {
   "cell_type": "code",
   "execution_count": 70,
   "id": "3477a9c0-67c2-42f1-bbef-cc0c2a468f8e",
   "metadata": {},
   "outputs": [
    {
     "name": "stdout",
     "output_type": "stream",
     "text": [
      "The accuracy score achieved using Decision Tree is: 88.89 %\n"
     ]
    }
   ],
   "source": [
    "score_rf = round(accuracy_score(Y_pred_rf,Y_test)*100,2)\n",
    "\n",
    "print(\"The accuracy score achieved using Decision Tree is: \"+str(score_rf)+\" %\")"
   ]
  },
  {
   "cell_type": "markdown",
   "id": "4bee0448-239b-4ea5-becd-8fc0c6179075",
   "metadata": {},
   "source": [
    "# XGBoost"
   ]
  },
  {
   "cell_type": "code",
   "execution_count": 71,
   "id": "ec5d89e2-71f9-44fe-8a4a-edd1e2855be1",
   "metadata": {},
   "outputs": [],
   "source": [
    "import xgboost as xgb\n",
    "\n",
    "xgb_model = xgb.XGBClassifier(objective=\"binary:logistic\", random_state=42)\n",
    "xgb_model.fit(X_train, Y_train)\n",
    "\n",
    "Y_pred_xgb = xgb_model.predict(X_test)"
   ]
  },
  {
   "cell_type": "code",
   "execution_count": 72,
   "id": "4e838888-7736-4e3d-85a0-b85c5b4bdbaf",
   "metadata": {},
   "outputs": [
    {
     "data": {
      "text/plain": [
       "(36,)"
      ]
     },
     "execution_count": 72,
     "metadata": {},
     "output_type": "execute_result"
    }
   ],
   "source": [
    "Y_pred_xgb.shape"
   ]
  },
  {
   "cell_type": "code",
   "execution_count": 73,
   "id": "5a1bac6d-bbb5-4b88-80d8-7a976121c2d3",
   "metadata": {},
   "outputs": [
    {
     "name": "stdout",
     "output_type": "stream",
     "text": [
      "The accuracy score achieved using XGBoost is: 77.78 %\n"
     ]
    }
   ],
   "source": [
    "score_xgb = round(accuracy_score(Y_pred_xgb,Y_test)*100,2)\n",
    "\n",
    "print(\"The accuracy score achieved using XGBoost is: \"+str(score_xgb)+\" %\")"
   ]
  },
  {
   "cell_type": "markdown",
   "id": "f4424ff1-f313-427f-b4a6-d1b74ed90336",
   "metadata": {},
   "source": [
    "# Output Final Score"
   ]
  },
  {
   "cell_type": "code",
   "execution_count": 74,
   "id": "db971c6a-e7fb-4686-96b1-b3227c07d536",
   "metadata": {},
   "outputs": [
    {
     "name": "stdout",
     "output_type": "stream",
     "text": [
      "The accuracy score achieved using Logistic Regression is: 86.11 %\n",
      "The accuracy score achieved using Naive Bayes is: 80.56 %\n",
      "The accuracy score achieved using Support Vector Machine is: 80.56 %\n",
      "The accuracy score achieved using K-Nearest Neighbors is: 55.56 %\n",
      "The accuracy score achieved using Decision Tree is: 77.78 %\n",
      "The accuracy score achieved using Random Forest is: 88.89 %\n",
      "The accuracy score achieved using XGBoost is: 77.78 %\n"
     ]
    }
   ],
   "source": [
    "scores = [score_lr,score_nb,score_svm,score_knn,score_dt,score_rf,score_xgb]\n",
    "algorithms = [\"Logistic Regression\",\"Naive Bayes\",\"Support Vector Machine\",\"K-Nearest Neighbors\",\"Decision Tree\",\"Random Forest\",\"XGBoost\"]    \n",
    "\n",
    "for i in range(len(algorithms)):\n",
    "    print(\"The accuracy score achieved using \"+algorithms[i]+\" is: \"+str(scores[i])+\" %\")"
   ]
  },
  {
   "cell_type": "code",
   "execution_count": 75,
   "id": "de9376dd-f069-4b84-bdbe-be6961ddb770",
   "metadata": {},
   "outputs": [
    {
     "data": {
      "image/png": "[encoded data removed]",
      "text/plain": [
       "<Figure size 1000x500 with 1 Axes>"
      ]
     },
     "metadata": {},
     "output_type": "display_data"
    }
   ],
   "source": [
    "sns.set(rc={'figure.figsize': (10, 5)})\n",
    "\n",
    "sns.barplot(x=algorithms, y=scores, palette=\"muted\")\n",
    "\n",
    "plt.xlabel(\"Algorithms\", fontsize=14)\n",
    "plt.ylabel(\"Accuracy Score (%)\", fontsize=14)\n",
    "plt.title(\"Comparison of Model Accuracy\", fontsize=16)\n",
    "plt.ylim(0, 100)\n",
    "plt.xticks(rotation=15)\n",
    "plt.show()\n"
   ]
  },
  {
   "cell_type": "code",
   "execution_count": 80,
   "id": "f7730701-7ffc-425c-9412-2e1ea2bf6a13",
   "metadata": {},
   "outputs": [
    {
     "name": "stdout",
     "output_type": "stream",
     "text": [
      "0.9583333333333333\n"
     ]
    },
    {
     "data": {
      "image/png": "[encoded data removed]",
      "text/plain": [
       "<Figure size 1000x500 with 1 Axes>"
      ]
     },
     "metadata": {},
     "output_type": "display_data"
    }
   ],
   "source": [
    "# Define and train model\n",
    "model = LogisticRegression()\n",
    "model.fit(X_train, Y_train)\n",
    "from sklearn.metrics import roc_curve,roc_auc_score\n",
    "\n",
    "Y_predict = model.predict_proba(X_test)[:,1]\n",
    "fpr,tpr,thresholds = roc_curve(Y_test,Y_predict)\n",
    "plt.title('ROC curve for heart disease predict')\n",
    "plt.xlabel('False Positive Rate (1-Specificity)')\n",
    "plt.ylabel('true Positive Rate (Sensitivity)')\n",
    "plt.plot(fpr,tpr,color='green',lw=5)\n",
    "print(roc_auc_score(Y_test,Y_predict))\n",
    "plt.tight_layout()\n",
    "plt.show()"
   ]
  },
  {
   "cell_type": "code",
   "execution_count": null,
   "id": "d2d04d75-df78-4864-bdb4-cabe4453c4ba",
   "metadata": {},
   "outputs": [],
   "source": []
  }
 ],
 "metadata": {
  "kernelspec": {
   "display_name": "Python 3 (ipykernel)",
   "language": "python",
   "name": "python3"
  },
  "language_info": {
   "codemirror_mode": {
    "name": "ipython",
    "version": 3
   },
   "file_extension": ".py",
   "mimetype": "text/x-python",
   "name": "python",
   "nbconvert_exporter": "python",
   "pygments_lexer": "ipython3",
   "version": "3.12.7"
  }
 },
 "nbformat": 4,
 "nbformat_minor": 5
}
